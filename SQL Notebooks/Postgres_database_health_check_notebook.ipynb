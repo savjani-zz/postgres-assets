{
    "metadata": {
        "kernelspec": {
            "name": "SQL",
            "display_name": "SQL",
            "language": "sql"
        },
        "language_info": {
            "name": "sql",
            "version": ""
        }
    },
    "nbformat_minor": 2,
    "nbformat": 4,
    "cells": [
        {
            "cell_type": "markdown",
            "source": "# Postgres Database Health Check Notebook\r\n",
            "metadata": {}
        },
        {
            "cell_type": "markdown",
            "source": "## Monitor Cache Hit Ratio\r\nYour cache hit ratio tells you how often your data is served from in memory vs. having to go to disk. Serving from memory vs. going to disk will be orders of magnitude faster, thus the more you can keep in memory the better. Of course you could provision an instance with as much memory as you have data, but you don’t necessarily have to. You can monitor your cache hit ratio with following script:\r\n#### 99% is a good metric for proper performance. \r\n",
            "metadata": {}
        },
        {
            "cell_type": "code",
            "source": "SELECT \r\n  sum(heap_blks_read) as heap_read,\r\n  sum(heap_blks_hit)  as heap_hit,\r\n  sum(heap_blks_hit) / (sum(heap_blks_hit) + sum(heap_blks_read)) as ratio\r\nFROM \r\n  pg_statio_user_tables;",
            "metadata": {},
            "outputs": [],
            "execution_count": 2
        },
        {
            "cell_type": "markdown",
            "source": "## Monitor Dead Tuples\r\nUnder the covers Postgres is essentially a giant append only log. When you write data it appends to the log, when you update data it marks the old record as invalid and writes a new one, when you delete data it just marks it invalid. Later Postgres comes through and vacuums those dead records (also known as tuples). \r\nAll those unvacuumed dead tuples are what is known as bloat. Bloat can slow down other writes and create other issues. Paying attention to your bloat and when it is getting out of hand can be key for tuning vacuum on your database. \r\n\r\n#### Query courtesy of Heroku’s pg-extras (https://github.com/heroku/heroku-pg-extras/tree/master/commands)\r\n",
            "metadata": {}
        },
        {
            "cell_type": "code",
            "source": "WITH constants AS (\r\n  SELECT current_setting('block_size')::numeric AS bs, 23 AS hdr, 4 AS ma\r\n), bloat_info AS (\r\n  SELECT\r\n    ma,bs,schemaname,tablename,\r\n    (datawidth+(hdr+ma-(case when hdr%ma=0 THEN ma ELSE hdr%ma END)))::numeric AS datahdr,\r\n    (maxfracsum*(nullhdr+ma-(case when nullhdr%ma=0 THEN ma ELSE nullhdr%ma END))) AS nullhdr2\r\n  FROM (\r\n    SELECT\r\n      schemaname, tablename, hdr, ma, bs,\r\n      SUM((1-null_frac)*avg_width) AS datawidth,\r\n      MAX(null_frac) AS maxfracsum,\r\n      hdr+(\r\n        SELECT 1+count(*)/8\r\n        FROM pg_stats s2\r\n        WHERE null_frac<>0 AND s2.schemaname = s.schemaname AND s2.tablename = s.tablename\r\n      ) AS nullhdr\r\n    FROM pg_stats s, constants\r\n    GROUP BY 1,2,3,4,5\r\n  ) AS foo\r\n), table_bloat AS (\r\n  SELECT\r\n    schemaname, tablename, cc.relpages, bs,\r\n    CEIL((cc.reltuples*((datahdr+ma-\r\n      (CASE WHEN datahdr%ma=0 THEN ma ELSE datahdr%ma END))+nullhdr2+4))/(bs-20::float)) AS otta\r\n  FROM bloat_info\r\n  JOIN pg_class cc ON cc.relname = bloat_info.tablename\r\n  JOIN pg_namespace nn ON cc.relnamespace = nn.oid AND nn.nspname = bloat_info.schemaname AND nn.nspname <> 'information_schema'\r\n), index_bloat AS (\r\n  SELECT\r\n    schemaname, tablename, bs,\r\n    COALESCE(c2.relname,'?') AS iname, COALESCE(c2.reltuples,0) AS ituples, COALESCE(c2.relpages,0) AS ipages,\r\n    COALESCE(CEIL((c2.reltuples*(datahdr-12))/(bs-20::float)),0) AS iotta -- very rough approximation, assumes all cols\r\n  FROM bloat_info\r\n  JOIN pg_class cc ON cc.relname = bloat_info.tablename\r\n  JOIN pg_namespace nn ON cc.relnamespace = nn.oid AND nn.nspname = bloat_info.schemaname AND nn.nspname <> 'information_schema'\r\n  JOIN pg_index i ON indrelid = cc.oid\r\n  JOIN pg_class c2 ON c2.oid = i.indexrelid\r\n)\r\nSELECT\r\n  type, schemaname, object_name, bloat, pg_size_pretty(raw_waste) as waste\r\nFROM\r\n(SELECT\r\n  'table' as type,\r\n  schemaname,\r\n  tablename as object_name,\r\n  ROUND(CASE WHEN otta=0 THEN 0.0 ELSE table_bloat.relpages/otta::numeric END,1) AS bloat,\r\n  CASE WHEN relpages < otta THEN '0' ELSE (bs*(table_bloat.relpages-otta)::bigint)::bigint END AS raw_waste\r\nFROM\r\n  table_bloat\r\n    UNION\r\nSELECT\r\n  'index' as type,\r\n  schemaname,\r\n  tablename || '::' || iname as object_name,\r\n  ROUND(CASE WHEN iotta=0 OR ipages=0 THEN 0.0 ELSE ipages/iotta::numeric END,1) AS bloat,\r\n  CASE WHEN ipages < iotta THEN '0' ELSE (bs*(ipages-iotta))::bigint END AS raw_waste\r\nFROM\r\n  index_bloat) bloat_summary\r\nORDER BY raw_waste DESC, bloat DESC",
            "metadata": {},
            "outputs": [],
            "execution_count": 3
        },
        {
            "cell_type": "markdown",
            "source": "## Monitor Unused Indexes\r\n\r\nWe always our database to be performant, so in order to do that we keep things in memory/cache (see earlier) and we index things so we don’t have to scan everything on disk. But there is a trade-off when it comes to indexing your database. Each index the system has to maintain will slow down your write throughput on the database. This is fine when you do need to speed up queries, as long as they’re being utilized. If you added an index years ago, but something within your application changed and you no longer need it best to remove it. \r\nPostgres makes it simply to query for unused indexes so you can easily give yourself back some performance by removing them:\r\n",
            "metadata": {}
        },
        {
            "cell_type": "code",
            "source": "SELECT\r\n  schemaname || '.' || relname AS table,\r\n  indexrelname AS index,\r\n  pg_size_pretty(pg_relation_size(i.indexrelid)) AS index_size,\r\n  idx_scan as index_scans\r\nFROM pg_stat_user_indexes ui\r\nJOIN pg_index i ON ui.indexrelid = i.indexrelid\r\nWHERE NOT indisunique AND idx_scan < 50 AND pg_relation_size(relid) > 5 * 8192\r\nORDER BY pg_relation_size(i.indexrelid) / nullif(idx_scan, 0) DESC NULLS FIRST,\r\npg_relation_size(i.indexrelid) DESC;",
            "metadata": {},
            "outputs": []
        },
        {
            "cell_type": "markdown",
            "source": "## Monitor query performance\r\n\r\nChecking in on this set of queries regularly can tell you where is best to add indexes or optimize your application so your query calls may not be so excessive. \r\n\r\n#### Query courtesy of HN commenter (https://news.ycombinator.com/item?id=19226861)",
            "metadata": {}
        },
        {
            "cell_type": "code",
            "source": "SELECT query, \r\n       calls, \r\n       total_time, \r\n       total_time / calls as time_per, \r\n       stddev_time, \r\n       rows, \r\n       rows / calls as rows_per,\r\n       100.0 * shared_blks_hit / nullif(shared_blks_hit + shared_blks_read, 0) AS hit_percent\r\nFROM pg_stat_statements\r\nWHERE query not similar to '%pg_%'\r\nand calls > 500\r\n--ORDER BY calls\r\n--ORDER BY total_time\r\norder by time_per\r\n--ORDER BY rows_per\r\nDESC LIMIT 20;",
            "metadata": {},
            "outputs": [
                {
                    "output_type": "display_data",
                    "data": {
                        "text/html": "(20 row(s) affected)"
                    },
                    "metadata": {}
                },
                {
                    "output_type": "display_data",
                    "data": {
                        "text/html": "Total execution time: 0:00:00.618612"
                    },
                    "metadata": {}
                },
                {
                    "output_type": "execute_result",
                    "metadata": {},
                    "execution_count": 4,
                    "data": {
                        "application/vnd.dataresource+json": {
                            "schema": {
                                "fields": [
                                    {
                                        "name": "query"
                                    },
                                    {
                                        "name": "calls"
                                    },
                                    {
                                        "name": "total_time"
                                    },
                                    {
                                        "name": "time_per"
                                    },
                                    {
                                        "name": "stddev_time"
                                    },
                                    {
                                        "name": "rows"
                                    },
                                    {
                                        "name": "rows_per"
                                    },
                                    {
                                        "name": "hit_percent"
                                    }
                                ]
                            },
                            "data": [
                                {
                                    "0": "<insufficient privilege>",
                                    "1": "705",
                                    "2": "6516.08660980561",
                                    "3": "9.24267604227746",
                                    "4": "6.13376202635446",
                                    "5": "3525",
                                    "6": "5",
                                    "7": "100.0000000000000000"
                                },
                                {
                                    "0": "<insufficient privilege>",
                                    "1": "1411",
                                    "2": "7716.47698849704",
                                    "3": "5.4688001335911",
                                    "4": "6.7949749829968",
                                    "5": "7055",
                                    "6": "5",
                                    "7": "100.0000000000000000"
                                },
                                {
                                    "0": "<insufficient privilege>",
                                    "1": "1411",
                                    "2": "4817.77418993521",
                                    "3": "3.41443953928789",
                                    "4": "3.20599787655185",
                                    "5": "0",
                                    "6": "0",
                                    "7": "99.8635159365215297"
                                },
                                {
                                    "0": "<insufficient privilege>",
                                    "1": "1411",
                                    "2": "2251.46046166252",
                                    "3": "1.59564880344615",
                                    "4": "0.43677541646645",
                                    "5": "1411",
                                    "6": "1",
                                    "7": "NULL"
                                },
                                {
                                    "0": "<insufficient privilege>",
                                    "1": "1411",
                                    "2": "946.86155256301",
                                    "3": "0.671057088988668",
                                    "4": "0.116557293335906",
                                    "5": "1411",
                                    "6": "1",
                                    "7": "100.0000000000000000"
                                },
                                {
                                    "0": "<insufficient privilege>",
                                    "1": "1411",
                                    "2": "259.155134474928",
                                    "3": "0.18366770692766",
                                    "4": "0.0368868953902667",
                                    "5": "1411",
                                    "6": "1",
                                    "7": "100.0000000000000000"
                                },
                                {
                                    "0": "<insufficient privilege>",
                                    "1": "1411",
                                    "2": "233.708227181834",
                                    "3": "0.165633045486771",
                                    "4": "0.0331217613167712",
                                    "5": "1411",
                                    "6": "1",
                                    "7": "100.0000000000000000"
                                },
                                {
                                    "0": "<insufficient privilege>",
                                    "1": "1411",
                                    "2": "214.530673153343",
                                    "3": "0.152041582674233",
                                    "4": "0.141626356103195",
                                    "5": "4257",
                                    "6": "3",
                                    "7": "99.9911785462244178"
                                },
                                {
                                    "0": "<insufficient privilege>",
                                    "1": "12053",
                                    "2": "246.764582638848",
                                    "3": "0.0204732915157096",
                                    "4": "0.00919277799437212",
                                    "5": "0",
                                    "6": "0",
                                    "7": "100.0000000000000000"
                                },
                                {
                                    "0": "<insufficient privilege>",
                                    "1": "707",
                                    "2": "12.9385457010372",
                                    "3": "0.0183006304116509",
                                    "4": "0.00816704271667443",
                                    "5": "707",
                                    "6": "1",
                                    "7": "NULL"
                                },
                                {
                                    "0": "<insufficient privilege>",
                                    "1": "1414",
                                    "2": "25.7909653304629",
                                    "3": "0.0182397208843443",
                                    "4": "0.00822402944925117",
                                    "5": "0",
                                    "6": "0",
                                    "7": "NULL"
                                },
                                {
                                    "0": "<insufficient privilege>",
                                    "1": "1411",
                                    "2": "24.9662970385572",
                                    "3": "0.0176940446765111",
                                    "4": "0.00989945776651044",
                                    "5": "4233",
                                    "6": "3",
                                    "7": "100.0000000000000000"
                                },
                                {
                                    "0": "<insufficient privilege>",
                                    "1": "1414",
                                    "2": "14.2273130316778",
                                    "3": "0.0100617489615826",
                                    "4": "0.00442232948540486",
                                    "5": "0",
                                    "6": "0",
                                    "7": "NULL"
                                },
                                {
                                    "0": "<insufficient privilege>",
                                    "1": "1411",
                                    "2": "11.7854380894113",
                                    "3": "0.00835254294075925",
                                    "4": "0.00462366097827654",
                                    "5": "0",
                                    "6": "0",
                                    "7": "NULL"
                                },
                                {
                                    "0": "<insufficient privilege>",
                                    "1": "2824",
                                    "2": "21.0535851427616",
                                    "3": "0.00745523553213938",
                                    "4": "0.0049370847020652",
                                    "5": "0",
                                    "6": "0",
                                    "7": "NULL"
                                },
                                {
                                    "0": "<insufficient privilege>",
                                    "1": "12054",
                                    "2": "82.6939699701215",
                                    "3": "0.00686029284636813",
                                    "4": "0.00510357379339975",
                                    "5": "0",
                                    "6": "0",
                                    "7": "NULL"
                                },
                                {
                                    "0": "<insufficient privilege>",
                                    "1": "14129",
                                    "2": "65.0247378175123",
                                    "3": "0.00460221797844945",
                                    "4": "0.0102524936740089",
                                    "5": "14129",
                                    "6": "1",
                                    "7": "NULL"
                                },
                                {
                                    "0": "<insufficient privilege>",
                                    "1": "2586",
                                    "2": "11.3333877757206",
                                    "3": "0.0043825938807891",
                                    "4": "0.00361562552690981",
                                    "5": "0",
                                    "6": "0",
                                    "7": "NULL"
                                },
                                {
                                    "0": "<insufficient privilege>",
                                    "1": "2822",
                                    "2": "12.0893337099676",
                                    "3": "0.00428395950034286",
                                    "4": "0.003507953162928",
                                    "5": "0",
                                    "6": "0",
                                    "7": "NULL"
                                },
                                {
                                    "0": "<insufficient privilege>",
                                    "1": "5644",
                                    "2": "23.1799619885031",
                                    "3": "0.00410700956564548",
                                    "4": "0.00299542973993334",
                                    "5": "0",
                                    "6": "0",
                                    "7": "NULL"
                                }
                            ]
                        },
                        "text/html": "<table><tr><th>query</th><th>calls</th><th>total_time</th><th>time_per</th><th>stddev_time</th><th>rows</th><th>rows_per</th><th>hit_percent</th></tr><tr><td>&lt;insufficient privilege&gt;</td><td>705</td><td>6516.08660980561</td><td>9.24267604227746</td><td>6.13376202635446</td><td>3525</td><td>5</td><td>100.0000000000000000</td></tr><tr><td>&lt;insufficient privilege&gt;</td><td>1411</td><td>7716.47698849704</td><td>5.4688001335911</td><td>6.7949749829968</td><td>7055</td><td>5</td><td>100.0000000000000000</td></tr><tr><td>&lt;insufficient privilege&gt;</td><td>1411</td><td>4817.77418993521</td><td>3.41443953928789</td><td>3.20599787655185</td><td>0</td><td>0</td><td>99.8635159365215297</td></tr><tr><td>&lt;insufficient privilege&gt;</td><td>1411</td><td>2251.46046166252</td><td>1.59564880344615</td><td>0.43677541646645</td><td>1411</td><td>1</td><td>NULL</td></tr><tr><td>&lt;insufficient privilege&gt;</td><td>1411</td><td>946.86155256301</td><td>0.671057088988668</td><td>0.116557293335906</td><td>1411</td><td>1</td><td>100.0000000000000000</td></tr><tr><td>&lt;insufficient privilege&gt;</td><td>1411</td><td>259.155134474928</td><td>0.18366770692766</td><td>0.0368868953902667</td><td>1411</td><td>1</td><td>100.0000000000000000</td></tr><tr><td>&lt;insufficient privilege&gt;</td><td>1411</td><td>233.708227181834</td><td>0.165633045486771</td><td>0.0331217613167712</td><td>1411</td><td>1</td><td>100.0000000000000000</td></tr><tr><td>&lt;insufficient privilege&gt;</td><td>1411</td><td>214.530673153343</td><td>0.152041582674233</td><td>0.141626356103195</td><td>4257</td><td>3</td><td>99.9911785462244178</td></tr><tr><td>&lt;insufficient privilege&gt;</td><td>12053</td><td>246.764582638848</td><td>0.0204732915157096</td><td>0.00919277799437212</td><td>0</td><td>0</td><td>100.0000000000000000</td></tr><tr><td>&lt;insufficient privilege&gt;</td><td>707</td><td>12.9385457010372</td><td>0.0183006304116509</td><td>0.00816704271667443</td><td>707</td><td>1</td><td>NULL</td></tr><tr><td>&lt;insufficient privilege&gt;</td><td>1414</td><td>25.7909653304629</td><td>0.0182397208843443</td><td>0.00822402944925117</td><td>0</td><td>0</td><td>NULL</td></tr><tr><td>&lt;insufficient privilege&gt;</td><td>1411</td><td>24.9662970385572</td><td>0.0176940446765111</td><td>0.00989945776651044</td><td>4233</td><td>3</td><td>100.0000000000000000</td></tr><tr><td>&lt;insufficient privilege&gt;</td><td>1414</td><td>14.2273130316778</td><td>0.0100617489615826</td><td>0.00442232948540486</td><td>0</td><td>0</td><td>NULL</td></tr><tr><td>&lt;insufficient privilege&gt;</td><td>1411</td><td>11.7854380894113</td><td>0.00835254294075925</td><td>0.00462366097827654</td><td>0</td><td>0</td><td>NULL</td></tr><tr><td>&lt;insufficient privilege&gt;</td><td>2824</td><td>21.0535851427616</td><td>0.00745523553213938</td><td>0.0049370847020652</td><td>0</td><td>0</td><td>NULL</td></tr><tr><td>&lt;insufficient privilege&gt;</td><td>12054</td><td>82.6939699701215</td><td>0.00686029284636813</td><td>0.00510357379339975</td><td>0</td><td>0</td><td>NULL</td></tr><tr><td>&lt;insufficient privilege&gt;</td><td>14129</td><td>65.0247378175123</td><td>0.00460221797844945</td><td>0.0102524936740089</td><td>14129</td><td>1</td><td>NULL</td></tr><tr><td>&lt;insufficient privilege&gt;</td><td>2586</td><td>11.3333877757206</td><td>0.0043825938807891</td><td>0.00361562552690981</td><td>0</td><td>0</td><td>NULL</td></tr><tr><td>&lt;insufficient privilege&gt;</td><td>2822</td><td>12.0893337099676</td><td>0.00428395950034286</td><td>0.003507953162928</td><td>0</td><td>0</td><td>NULL</td></tr><tr><td>&lt;insufficient privilege&gt;</td><td>5644</td><td>23.1799619885031</td><td>0.00410700956564548</td><td>0.00299542973993334</td><td>0</td><td>0</td><td>NULL</td></tr></table>"
                    }
                }
            ],
            "execution_count": 4
        }
    ]
}